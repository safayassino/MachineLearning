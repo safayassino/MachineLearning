{
  "cells": [
    {
      "cell_type": "markdown",
      "metadata": {
        "id": "view-in-github",
        "colab_type": "text"
      },
      "source": [
        "<a href=\"https://colab.research.google.com/github/safayassino/MachineLearning/blob/main/03_nonlinear_equations.ipynb\" target=\"_parent\"><img src=\"https://colab.research.google.com/assets/colab-badge.svg\" alt=\"Open In Colab\"/></a>"
      ]
    },
    {
      "cell_type": "markdown",
      "metadata": {
        "ein.tags": [
          "worksheet-0"
        ],
        "id": "c46wACkoTKpI"
      },
      "source": [
        "# Nonlinear Equations\n",
        "\n",
        "We want to find a root of the nonlinear function $f$ using different methods.\n",
        "\n",
        "1. Bisection method\n",
        "2. Newton method\n",
        "3. Chord method\n",
        "4. Secant method\n",
        "5. Fixed point iterations\n",
        "\n",
        "\n",
        "\n"
      ]
    },
    {
      "cell_type": "code",
      "execution_count": null,
      "metadata": {
        "id": "2pMAlqJ-TKpK"
      },
      "outputs": [],
      "source": [
        "%matplotlib inline\n",
        "from numpy import *\n",
        "from matplotlib.pyplot import *\n",
        "import sympy as sym\n"
      ]
    },
    {
      "cell_type": "code",
      "execution_count": null,
      "metadata": {
        "autoscroll": "json-false",
        "ein.tags": [
          "worksheet-0"
        ],
        "colab": {
          "base_uri": "https://localhost:8080/",
          "height": 265
        },
        "id": "6ugsjAu8TKpL",
        "outputId": "67a21726-315b-4697-820f-5757b4df40ab"
      },
      "outputs": [
        {
          "output_type": "display_data",
          "data": {
            "text/plain": [
              "<Figure size 432x288 with 1 Axes>"
            ],
            "image/png": "[encoded data removed]"
          },
          "metadata": {
            "needs_background": "light"
          }
        }
      ],
      "source": [
        "t = sym.symbols('t')\n",
        "\n",
        "f_sym = t/8. * (63.*t**4 - 70.*t**2. +15.) # Legendre polynomial of order 5\n",
        "\n",
        "f_prime_sym = sym.diff(f_sym,t)\n",
        "\n",
        "f = sym.lambdify(t, f_sym, 'numpy')\n",
        "f_prime = sym.lambdify(t,f_prime_sym, 'numpy')\n",
        "\n",
        "phi = lambda x : 63./70.*x**3 + 15./(70.*x)\n",
        "#phi = lambda x : 70.0/15.0*x**3 - 63.0/15.0*x**5\n",
        "#phi = lambda x : sqrt((63.*x**4 + 15.0)/70.)\n",
        "\n",
        "# Let's plot\n",
        "n = 1025\n",
        "\n",
        "x = linspace(-1,1,n)\n",
        "c = zeros_like(x)\n",
        "\n",
        "_ = plot(x,f(x))\n",
        "_ = plot(x,c)\n",
        "_ = grid()\n"
      ]
    },
    {
      "cell_type": "code",
      "execution_count": null,
      "metadata": {
        "id": "QynyKTJFTKpM"
      },
      "outputs": [],
      "source": [
        "# Initial data for the variuos algorithms\n",
        "\n",
        "# interval in which we seek the solution \n",
        "a = 0.7\n",
        "b = 1.\n",
        "\n",
        "# initial points\n",
        "x0 = (a+b)/2.0\n",
        "x00 = b\n"
      ]
    },
    {
      "cell_type": "code",
      "execution_count": null,
      "metadata": {
        "id": "aElZ7UNzTKpM"
      },
      "outputs": [],
      "source": [
        "# stopping criteria\n",
        "eps = 1e-10\n",
        "n_max = 1000"
      ]
    },
    {
      "cell_type": "markdown",
      "metadata": {
        "id": "5pLZpXYUTKpN"
      },
      "source": [
        "## Bisection method\n",
        "\n",
        "$$\n",
        "x^k = \\frac{a^k+b^k}{2}\n",
        "$$\n",
        "```\n",
        "                   if (f(a_k) * f(x_k)) < 0:\n",
        "                      b_k1 = x_k\n",
        "                      a_k1 = a_k\n",
        "                   else:\n",
        "                      a_k1 = x_k\n",
        "                      b_k1 = b_k\n",
        "```"
      ]
    },
    {
      "cell_type": "code",
      "execution_count": null,
      "metadata": {
        "colab": {
          "base_uri": "https://localhost:8080/",
          "height": 319
        },
        "id": "dIGkSCBaTKpN",
        "outputId": "f2bf35f9-6de3-4681-c98f-1643d9964ce8"
      },
      "outputs": [
        {
          "output_type": "stream",
          "name": "stdout",
          "text": [
            "31\n",
            "0.906179845915176\n",
            "6.984912648277941e-11\n"
          ]
        },
        {
          "output_type": "display_data",
          "data": {
            "text/plain": [
              "<Figure size 432x288 with 1 Axes>"
            ],
            "image/png": "[encoded data removed]"
          },
          "metadata": {
            "needs_background": "light"
          }
        }
      ],
      "source": [
        "def bisect(f,a,b,eps,n_max):\n",
        "    assert f(a)*f(b)<0\n",
        "    a_new = a\n",
        "    b_new = b\n",
        "    x = mean([a,b])\n",
        "    err = eps + 1.\n",
        "    errors = [err]\n",
        "    it = 0\n",
        "    while (err > eps and it < n_max):\n",
        "        if ( f(a_new) * f(x) < 0 ):\n",
        "            # root in (a_new,x)\n",
        "            b_new = x\n",
        "        else:\n",
        "            # root in (x,b_new)\n",
        "            a_new = x\n",
        "        \n",
        "        x_new = mean([a_new,b_new])\n",
        "        \n",
        "        #err = 0.5 *(b_new -a_new)\n",
        "        #err = abs(f(x_new))\n",
        "        err = abs(x-x_new)\n",
        "        \n",
        "        errors.append(err)\n",
        "        x = x_new\n",
        "        it += 1\n",
        "    \n",
        "    semilogy(errors)\n",
        "    print(it)\n",
        "    print(x)\n",
        "    print(err)\n",
        "    return errors\n",
        "              \n",
        "#%time \n",
        "errors_bisect = bisect(f,a,b,eps,n_max)\n",
        "    \n",
        "        "
      ]
    },
    {
      "cell_type": "code",
      "execution_count": null,
      "metadata": {
        "id": "4BfXBHPuTKpN"
      },
      "outputs": [],
      "source": [
        "# is the number of iterations coherent with the theoretical estimation?"
      ]
    },
    {
      "cell_type": "markdown",
      "metadata": {
        "id": "BWbkx5oaTKpO"
      },
      "source": [
        "In order to find out other methods for solving non-linear equations, let's compute the Taylor's series of $f(x^k)$ up to the first order \n",
        "\n",
        "$$\n",
        "f(x^k) \\simeq f(x^k) + (x-x^k)f^{\\prime}(x^k)\n",
        "$$\n",
        "which suggests the following iterative scheme\n",
        "$$\n",
        "x^{k+1} = x^k - \\frac{f(x^k)}{f^{\\prime}(x^k)}\n",
        "$$\n",
        "\n",
        "The following methods are obtained applying the above scheme where\n",
        "\n",
        "$$\n",
        "f^{\\prime}(x^k) \\approx q^k\n",
        "$$"
      ]
    },
    {
      "cell_type": "markdown",
      "metadata": {
        "id": "UP6bLgmMTKpO"
      },
      "source": [
        "## Newton's method\n",
        "$$\n",
        "q^k = f^{\\prime}(x^k)\n",
        "$$\n",
        "\n",
        "$$\n",
        "x^{k+1} = x^k - \\frac{f(x^k)}{q^k}\n",
        "$$"
      ]
    },
    {
      "cell_type": "code",
      "execution_count": null,
      "metadata": {
        "id": "wL-eP-13TKpP"
      },
      "outputs": [],
      "source": [
        "def newton(f,f_prime,x0,eps,n_max):\n",
        "    pass # TODO\n",
        "\n",
        "%time errors_newton = newton(f,f_prime,1.0,eps,n_max)"
      ]
    },
    {
      "cell_type": "markdown",
      "metadata": {
        "id": "bPhiWSK6TKpP"
      },
      "source": [
        "## Chord method\n",
        "\n",
        "$$\n",
        "q^k \\equiv q = \\frac{f(b)-f(a)}{b-a}\n",
        "$$\n",
        "\n",
        "$$\n",
        "x^{k+1} = x^k - \\frac{f(x^k)}{q}\n",
        "$$"
      ]
    },
    {
      "cell_type": "code",
      "execution_count": null,
      "metadata": {
        "autoscroll": "json-false",
        "ein.tags": [
          "worksheet-0"
        ],
        "id": "CKZEJKbnTKpP"
      },
      "outputs": [],
      "source": [
        "def chord(f,a,b,x0,eps,n_max):\n",
        "    pass # TODO\n",
        "\n",
        "errors_chord = chord (f,a,b,x0,eps,n_max)"
      ]
    },
    {
      "cell_type": "markdown",
      "metadata": {
        "id": "U-XbFxDQTKpP"
      },
      "source": [
        "## Secant method\n",
        "\n",
        "$$\n",
        "q^k = \\frac{f(x^k)-f(x^{k-1})}{x^k - x^{k-1}}\n",
        "$$\n",
        "\n",
        "$$\n",
        "x^{k+1} = x^k - \\frac{f(x^k)}{q^k}\n",
        "$$\n",
        "\n",
        "Note that this algorithm requirs **two** initial points"
      ]
    },
    {
      "cell_type": "code",
      "execution_count": null,
      "metadata": {
        "id": "wFKpGFpmTKpQ"
      },
      "outputs": [],
      "source": [
        "def secant(f,x0,x00,eps,n_max):\n",
        "    pass # TODO\n",
        "    \n",
        "errors_secant = secant(f,x0,x00,eps,n_max)"
      ]
    },
    {
      "cell_type": "markdown",
      "metadata": {
        "id": "IY5KPR5mTKpQ"
      },
      "source": [
        "## Fixed point iterations\n",
        "\n",
        "$$\n",
        "f(x)=0 \\to x-\\phi(x)=0\n",
        "$$\n",
        "\n",
        "$$\n",
        "x^{k+1} = \\phi(x^k)\n",
        "$$"
      ]
    },
    {
      "cell_type": "code",
      "execution_count": 8,
      "metadata": {
        "id": "sVDqVn3fTKpQ",
        "outputId": "70943a3b-2388-4420-ed10-2055a888c01e",
        "colab": {
          "base_uri": "https://localhost:8080/"
        }
      },
      "outputs": [
        {
          "output_type": "stream",
          "name": "stdout",
          "text": [
            "Enter Guess: 12\n",
            "Tolerable Error: 0.00001\n",
            "Maximum Step: 5\n",
            "\n",
            "\n",
            "*** FIXED POINT ITERATION ***\n",
            "Iteration-1, x1 = 136.611179 and f(x1) = 374676026806.683350\n",
            "Iteration-2, x1 = 17704.910477 and f(x1) = 13699958026627302031360.000000\n",
            "Iteration-3, x1 = 297377923.775239 and f(x1) = 18314462923454328526891815577817252020355072.000000\n",
            "Iteration-4, x1 = 83895507339001184.000000 and f(x1) = 32729855347297022863601645671205278229093782214914284777976669348150449057431442948096.000000\n",
            "Iteration-5, x1 = 6677265795148705991901483867570176.000000 and f(x1) = 104530705836499888893393124455996586580214006215112621040133185224500146797980307341713712739802102497376571486718665351732197874531987601627379231697363732509532857827328.000000\n",
            "\n",
            "Not Convergent.\n"
          ]
        }
      ],
      "source": [
        "import math\n",
        "def f(t):\n",
        "    return t/8. * (63.*t**4 - 70.*t**2. +15.)\n",
        "\n",
        "# Re-writing f(x)=0 to x = g(x)\n",
        "def g(x):\n",
        "    return math.sqrt((63.*x**4 + 15.0)/70.)\n",
        "\n",
        "# Implementing Fixed Point Iteration Method\n",
        "#def fixedPointIteration(x0, e, N):\n",
        "def fixed_point(x0,e,N):\n",
        "    print('\\n\\n*** FIXED POINT ITERATION ***')\n",
        "    step = 1\n",
        "    flag = 1\n",
        "    condition = True\n",
        "    while condition:\n",
        "        x1 = g(x0)\n",
        "        print('Iteration-%d, x1 = %0.6f and f(x1) = %0.6f' % (step, x1, f(x1)))\n",
        "        x0 = x1\n",
        "\n",
        "        step = step + 1\n",
        "        \n",
        "        if step > N:\n",
        "            flag=0\n",
        "            break\n",
        "        \n",
        "        condition = abs(f(x1)) > e\n",
        "\n",
        "    if flag==1:\n",
        "        print('\\nRequired root is: %0.8f' % x1)\n",
        "    else:\n",
        "        print('\\nNot Convergent.')\n",
        "\n",
        "# Input Section\n",
        "x0 = input('Enter Guess: ')\n",
        "e = input('Tolerable Error: ')\n",
        "N = input('Maximum Step: ')\n",
        "\n",
        "# Converting x0 and e to float\n",
        "x0 = float(x0)\n",
        "e = float(e)\n",
        "\n",
        "# Converting N to integer\n",
        "N = int(N)\n",
        "\n",
        "#errors_fixed = fixed_point(phi,0.3,eps,n_max)\n",
        "fixed_point(x0,e,N)"
      ]
    },
    {
      "cell_type": "code",
      "source": [
        "#by the teacher: \n",
        "def fixed_point(phi,x0,eps,n_max):\n",
        "  x = x0\n",
        "  err = eps + 1. \n",
        "  errors = [err]\n",
        "  it = 0 \n",
        "  while (err > eps and it < n_max):\n",
        "    x_new = phi(x)\n",
        "    err = abs(x_new-x)\n",
        "\n",
        "\n",
        "#here we can check that for phi 1,2,4 there is a problem in the last condition, meaning the derivative has to be less than 1. while in 3 the problem is that phi(x) is not on the interval [a,b], exercise for home, verify this! \n"
      ],
      "metadata": {
        "id": "Q4xf8H6Xu9UQ"
      },
      "execution_count": null,
      "outputs": []
    },
    {
      "cell_type": "markdown",
      "metadata": {
        "id": "Aeth4eJNTKpQ"
      },
      "source": [
        "## Comparison"
      ]
    },
    {
      "cell_type": "code",
      "execution_count": null,
      "metadata": {
        "id": "LR4sn9nPTKpQ"
      },
      "outputs": [],
      "source": [
        "# plot the error convergence for the methods\n",
        "loglog(errors_bisect, label='bisect')\n",
        "loglog(errors_chord, label='chord')\n",
        "loglog(errors_secant, label='secant')\n",
        "loglog(errors_newton, label ='newton')\n",
        "loglog(errors_fixed, label ='fixed')\n",
        "_ = legend()"
      ]
    },
    {
      "cell_type": "code",
      "execution_count": null,
      "metadata": {
        "id": "GKCmYWdQTKpQ"
      },
      "outputs": [],
      "source": [
        "# Let's compare the scipy implmentation of Newton's method with our.."
      ]
    },
    {
      "cell_type": "code",
      "execution_count": 9,
      "metadata": {
        "id": "SH5aNNT9TKpR",
        "colab": {
          "base_uri": "https://localhost:8080/",
          "height": 148
        },
        "outputId": "064902aa-0d95-42b8-fd75-899c8df13f18"
      },
      "outputs": [
        {
          "output_type": "error",
          "ename": "NameError",
          "evalue": "ignored",
          "traceback": [
            "\u001b[0;31m---------------------------------------------------------------------------\u001b[0m",
            "\u001b[0;31mNameError\u001b[0m                                 Traceback (most recent call last)",
            "\u001b[0;32m<timed eval>\u001b[0m in \u001b[0;36m<module>\u001b[0;34m\u001b[0m\n",
            "\u001b[0;31mNameError\u001b[0m: name 'f_prime' is not defined"
          ]
        }
      ],
      "source": [
        "import scipy.optimize as opt\n",
        "%time opt.newton(f, 1.0, f_prime, tol = eps)"
      ]
    },
    {
      "cell_type": "markdown",
      "source": [
        "SLide Pg.5 in least square file: let's predict the population in Switzerland!! \n",
        "in the years that they were not calculated."
      ],
      "metadata": {
        "id": "VkYL0fPjzd80"
      }
    }
  ],
  "metadata": {
    "anaconda-cloud": {},
    "kernelspec": {
      "display_name": "Python 3 (ipykernel)",
      "language": "python",
      "name": "python3"
    },
    "language_info": {
      "codemirror_mode": {
        "name": "ipython",
        "version": 3
      },
      "file_extension": ".py",
      "mimetype": "text/x-python",
      "name": "python",
      "nbconvert_exporter": "python",
      "pygments_lexer": "ipython3",
      "version": "3.9.7"
    },
    "name": "07_non_linear_equations.ipynb",
    "colab": {
      "provenance": [],
      "include_colab_link": true
    }
  },
  "nbformat": 4,
  "nbformat_minor": 0
}